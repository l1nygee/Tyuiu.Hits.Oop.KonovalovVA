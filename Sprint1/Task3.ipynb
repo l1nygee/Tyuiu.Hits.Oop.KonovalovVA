{
 "cells": [
  {
   "cell_type": "markdown",
   "metadata": {},
   "source": [
    "<h1 style=\"color:DodgerBlue\">Индивидальный проект</h1>"
   ]
  },
  {
   "cell_type": "markdown",
   "metadata": {},
   "source": [
    "<h2 style=\"color:DodgerBlue\">Название проекта:</h2>\n",
    "\n",
    "----\n",
    "\n",
    "### Вариант задания \n"
   ]
  },
  {
   "cell_type": "markdown",
   "metadata": {},
   "source": [
    "<h2 style=\"color:DodgerBlue\">Описание проекта:</h2>\n",
    "\n",
    "----\n",
    "\n",
    "[ваш текст]\n",
    "\n",
    "#### Дополнительное задание\n",
    "Добавьте к сущестующим классам конструктора классов с использованием гетторов и сетторов и реализуйте взаимодействие объектов между собой"
   ]
  },
  {
   "cell_type": "markdown",
   "metadata": {},
   "source": [
    "<h2 style=\"color:DodgerBlue\">Реализация:</h2>\n",
    "\n",
    "----"
   ]
  },
  {
   "cell_type": "code",
   "execution_count": 7,
   "metadata": {
    "dotnet_interactive": {
     "language": "csharp"
    },
    "polyglot_notebook": {
     "kernelName": "csharp"
    }
   },
   "outputs": [
    {
     "name": "stdout",
     "output_type": "stream",
     "text": [
      "--- Заказ #1 ---\n",
      "Товар 'Мышь' добавлен в заказ\n",
      "Для онлайн-заказа добавлен способ доставки: Курьером\n",
      "Общая сумма заказа: 100 руб.\n",
      "\n",
      "--- Заказ #2 ---\n",
      "Товар 'Ноутбук' добавлен в заказ\n",
      "Общая сумма заказа: 100 руб.\n",
      "\n",
      "--- Заказ #3 ---\n",
      "Товар 'Клавиатура' добавлен в заказ\n",
      "Сумма заказа со специальными условиями 'Скидка 10%': 90.0 руб.\n",
      "\n",
      "==================================================\n",
      "\n",
      ">>> Объединение заказов #3 и #1\n",
      "Товар 'Мышь' добавлен в заказ\n",
      "Заказы успешно объединены!\n",
      "\n",
      "--- Итоговый объединенный заказ #3 ---\n",
      "Сумма заказа со специальными условиями 'Скидка 10%': 180.0 руб.\n"
     ]
    }
   ],
   "source": [
    "using System;\n",
    "using System.Collections.Generic;\n",
    "\n",
    "public class Order\n",
    "{\n",
    "    public int OrderId { get; set; }\n",
    "    public DateTime CreationDate { get; set; }\n",
    "    public decimal TotalAmount { get; set; }\n",
    "    protected List<string> Items { get; set; } = new List<string>();\n",
    "\n",
    "    public Order() { }\n",
    "    \n",
    "    public Order(int orderId, DateTime creationDate)\n",
    "    {\n",
    "        OrderId = orderId;\n",
    "        CreationDate = creationDate;\n",
    "    }\n",
    "\n",
    "    public virtual void CalculateTotal()\n",
    "    {\n",
    "        TotalAmount = Items.Count * 100; \n",
    "        Console.WriteLine($\"Общая сумма заказа: {TotalAmount} руб.\");\n",
    "    }\n",
    "\n",
    "    public virtual void AddItem(string item)\n",
    "    {\n",
    "        Items.Add(item);\n",
    "        Console.WriteLine($\"Товар '{item}' добавлен в заказ\");\n",
    "    }\n",
    "\n",
    "    public virtual void RemoveItem(string item)\n",
    "    {\n",
    "        if (Items.Remove(item))\n",
    "            Console.WriteLine($\"Товар '{item}' удален из заказа\");\n",
    "    }\n",
    "    \n",
    "    public void MergeOrder(Order otherOrder)\n",
    "    {\n",
    "        Console.WriteLine($\"\\n>>> Объединение заказов #{OrderId} и #{otherOrder.OrderId}\");\n",
    "        foreach (var item in otherOrder.Items)\n",
    "        {\n",
    "            AddItem(item);\n",
    "        }\n",
    "        Console.WriteLine($\"Заказы успешно объединены!\");\n",
    "    }\n",
    "}\n",
    "\n",
    "public class OnlineOrder : Order\n",
    "{\n",
    "    public string CustomerEmail { get; set; }\n",
    "\n",
    "    public OnlineOrder(int orderId, string email) : base(orderId, DateTime.Now)\n",
    "    {\n",
    "        CustomerEmail = email;\n",
    "    }\n",
    "\n",
    "    public override void AddItem(string item)\n",
    "    {\n",
    "        base.AddItem(item);\n",
    "        Console.WriteLine($\"Для онлайн-заказа добавлен способ доставки: Курьером\");\n",
    "    }\n",
    "}\n",
    "\n",
    "public class PhysicalOrder : Order\n",
    "{\n",
    "    public string DeliveryAddress { get; set; }\n",
    "\n",
    "    public PhysicalOrder(int orderId, string address) : base(orderId, DateTime.Now)\n",
    "    {\n",
    "        DeliveryAddress = address;\n",
    "    }\n",
    "\n",
    "    public override void RemoveItem(string item)\n",
    "    {\n",
    "        if (Items.Remove(item))\n",
    "            Console.WriteLine($\"Товар '{item}' удален. Оформлен возврат товара.\");\n",
    "    }\n",
    "}\n",
    "\n",
    "public class SpecializedOrder : Order\n",
    "{\n",
    "    public string SpecialConditions { get; set; }\n",
    "\n",
    "    public SpecializedOrder(int orderId, string conditions) : base(orderId, DateTime.Now)\n",
    "    {\n",
    "        SpecialConditions = conditions;\n",
    "    }\n",
    "\n",
    "    public override void CalculateTotal()\n",
    "    {\n",
    "        decimal baseAmount = Items.Count * 100;\n",
    "        \n",
    "        if (SpecialConditions == \"Скидка 10%\")\n",
    "            TotalAmount = baseAmount * 0.9m;\n",
    "        else if (SpecialConditions == \"Скидка 20%\")\n",
    "            TotalAmount = baseAmount * 0.8m;\n",
    "        else\n",
    "            TotalAmount = baseAmount;\n",
    "\n",
    "        Console.WriteLine($\"Сумма заказа со специальными условиями '{SpecialConditions}': {TotalAmount} руб.\");\n",
    "    }\n",
    "}\n",
    "\n",
    "\n",
    "    OnlineOrder order1 = new OnlineOrder(1, \"client@mail.ru\");\n",
    "    PhysicalOrder order2 = new PhysicalOrder(2, \"ул. Комарова, 1\");\n",
    "    SpecializedOrder order3 = new SpecializedOrder(3, \"Скидка 10%\");\n",
    "\n",
    "    Console.WriteLine(\"--- Заказ #1 ---\");\n",
    "    order1.AddItem(\"Мышь\");\n",
    "    order1.CalculateTotal();\n",
    "\n",
    "    Console.WriteLine(\"\\n--- Заказ #2 ---\");\n",
    "    order2.AddItem(\"Ноутбук\");\n",
    "    order2.CalculateTotal();\n",
    "\n",
    "    Console.WriteLine(\"\\n--- Заказ #3 ---\");\n",
    "    order3.AddItem(\"Клавиатура\");\n",
    "    order3.CalculateTotal();\n",
    "\n",
    "\n",
    "    Console.WriteLine(\"\\n\" + new string('=', 50));\n",
    "    order3.MergeOrder(order1);\n",
    " \n",
    "    Console.WriteLine(\"\\n--- Итоговый объединенный заказ #3 ---\");\n",
    "    order3.CalculateTotal();\n"
   ]
  }
 ],
 "metadata": {
  "kernelspec": {
   "display_name": ".NET (C#)",
   "language": "C#",
   "name": ".net-csharp"
  },
  "polyglot_notebook": {
   "kernelInfo": {
    "defaultKernelName": "csharp",
    "items": [
     {
      "aliases": [],
      "languageName": "csharp",
      "name": "csharp"
     }
    ]
   }
  }
 },
 "nbformat": 4,
 "nbformat_minor": 2
}
