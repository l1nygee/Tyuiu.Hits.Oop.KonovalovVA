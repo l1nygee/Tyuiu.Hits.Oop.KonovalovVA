{
 "cells": [
  {
   "cell_type": "markdown",
   "metadata": {},
   "source": [
    "<h1 style=\"color:DodgerBlue\">Индивидальный проект</h1>"
   ]
  },
  {
   "cell_type": "markdown",
   "metadata": {},
   "source": [
    "<h2 style=\"color:DodgerBlue\">Название проекта:</h2>\n",
    "\n",
    "----\n",
    "\n",
    "### Вариант задания  9\n"
   ]
  },
  {
   "cell_type": "markdown",
   "metadata": {},
   "source": [
    "<h2 style=\"color:DodgerBlue\">Описание проекта:</h2>\n",
    "\n",
    "----\n",
    "\n",
    "Описание задачи:\n",
    "Создать базовый класс Order в C#, который будет представлять информацию о\n",
    "заказах товаров или услуг. На основе этого класса разработать 2-3 производных\n",
    "класса, демонстрирующих принципы наследования и полиморфизма. В каждом из\n",
    "классов должны быть реализованы новые атрибуты и методы, а также\n",
    "переопределены некоторые методы базового класса для демонстрации\n",
    "полиморфизма.\n",
    "Требования к базовому классу Order:\n",
    "• Атрибуты: ID заказа (OrderId), Дата создания (CreationDate), Сумма заказа\n",
    "(TotalAmount).\n",
    "• Методы:\n",
    "o CalculateTotal(): метод для расчета общей суммы заказа.\n",
    "o AddItem(Item item): метод для добавления элемента в заказ.\n",
    "o RemoveItem(Item item): метод для удаления элемента из заказа.\n",
    "Требования к производным классам:\n",
    "1. ОнлайнЗаказ (OnlineOrder): Должен содержать дополнительные атрибуты,\n",
    "такие как Email клиента (CustomerEmail). Метод AddItem() должен быть\n",
    "переопределен для добавления информации о способе доставки при\n",
    "добавлении элемента.\n",
    "2. ФизическийЗаказ (PhysicalOrder): Должен содержать дополнительные\n",
    "атрибуты, такие как Адрес доставки (DeliveryAddress).\n",
    "Метод RemoveItem() должен быть переопределен для добавления\n",
    "информации о возврате товара при удалении элемента.\n",
    "3. СпециализированныйЗаказ (SpecializedOrder) (если требуется третий класс):\n",
    "Должен содержать дополнительные атрибуты, такие как Специальные\n",
    "условия (SpecialConditions). Метод CalculateTotal() должен быть\n",
    "переопределен для учета специальных условий при расчете общей суммы\n",
    "заказа."
   ]
  },
  {
   "cell_type": "markdown",
   "metadata": {},
   "source": [
    "<h2 style=\"color:DodgerBlue\">Реализация:</h2>\n",
    "\n",
    "----"
   ]
  },
  {
   "cell_type": "code",
   "execution_count": null,
   "metadata": {
    "dotnet_interactive": {
     "language": "csharp"
    },
    "polyglot_notebook": {
     "kernelName": "csharp"
    }
   },
   "outputs": [
    {
     "name": "stdout",
     "output_type": "stream",
     "text": [
      "\n",
      "--- Заказ #1 ---\n",
      "Товар 'Ноутбук' добавлен в заказ\n",
      "Для онлайн-заказа добавлен способ доставки: Курьером\n",
      "Товар 'Мышь' добавлен в заказ\n",
      "Для онлайн-заказа добавлен способ доставки: Курьером\n",
      "Общая сумма заказа: 200 руб.\n",
      "Товар 'Мышь' удален из заказа\n",
      "\n",
      "--- Заказ #2 ---\n",
      "Товар 'Ноутбук' добавлен в заказ\n",
      "Товар 'Мышь' добавлен в заказ\n",
      "Общая сумма заказа: 200 руб.\n",
      "Товар 'Мышь' удален. Оформлен возврат товара.\n",
      "\n",
      "--- Заказ #3 ---\n",
      "Товар 'Ноутбук' добавлен в заказ\n",
      "Товар 'Мышь' добавлен в заказ\n",
      "Сумма заказа со специальными условиями 'Скидка 10%': 180.0 руб.\n",
      "Товар 'Мышь' удален из заказа\n"
     ]
    }
   ],
   "source": [
    "using System;\n",
    "using System.Collections.Generic;\n",
    "\n",
    "public class Order\n",
    "{\n",
    "    public int OrderId { get; set; }\n",
    "    public DateTime CreationDate { get; set; }\n",
    "    public decimal TotalAmount { get; set; }\n",
    "    protected List<string> Items { get; set; } = new List<string>();\n",
    "\n",
    "    public virtual void CalculateTotal()\n",
    "    {\n",
    "        TotalAmount = Items.Count * 100; \n",
    "        Console.WriteLine($\"Общая сумма заказа: {TotalAmount} руб.\");\n",
    "    }\n",
    "\n",
    "    public virtual void AddItem(string item)\n",
    "    {\n",
    "        Items.Add(item);\n",
    "        Console.WriteLine($\"Товар '{item}' добавлен в заказ\");\n",
    "    }\n",
    "\n",
    "    public virtual void RemoveItem(string item)\n",
    "    {\n",
    "        if (Items.Remove(item))\n",
    "            Console.WriteLine($\"Товар '{item}' удален из заказа\");\n",
    "        else\n",
    "            Console.WriteLine($\"Товар '{item}' не найден в заказе\");\n",
    "    }\n",
    "}\n",
    "\n",
    "public class OnlineOrder : Order\n",
    "{\n",
    "    public string CustomerEmail { get; set; }\n",
    "\n",
    "    public override void AddItem(string item)\n",
    "    {\n",
    "        base.AddItem(item);\n",
    "        Console.WriteLine($\"Для онлайн-заказа добавлен способ доставки: Курьером\");\n",
    "    }\n",
    "}\n",
    "\n",
    "public class PhysicalOrder : Order\n",
    "{\n",
    "    public string DeliveryAddress { get; set; }\n",
    "\n",
    "    public override void RemoveItem(string item)\n",
    "    {\n",
    "        if (Items.Remove(item))\n",
    "            Console.WriteLine($\"Товар '{item}' удален. Оформлен возврат товара.\");\n",
    "        else\n",
    "            Console.WriteLine($\"Товар '{item}' не найден в заказе\");\n",
    "    }\n",
    "}\n",
    "\n",
    "public class SpecializedOrder : Order\n",
    "{\n",
    "    public string SpecialConditions { get; set; }\n",
    "\n",
    "    public override void CalculateTotal()\n",
    "    {\n",
    "        decimal baseAmount = Items.Count * 100;\n",
    "        \n",
    "        if (SpecialConditions == \"Скидка 10%\")\n",
    "            TotalAmount = baseAmount * 0.9m;\n",
    "        else if (SpecialConditions == \"Скидка 20%\")\n",
    "            TotalAmount = baseAmount * 0.8m;\n",
    "        else\n",
    "            TotalAmount = baseAmount;\n",
    "\n",
    "        Console.WriteLine($\"Сумма заказа со специальными условиями '{SpecialConditions}': {TotalAmount} руб.\");\n",
    "    }\n",
    "}\n",
    "\n",
    "\n",
    "        Order[] orders = new Order[3];\n",
    "        \n",
    "        orders[0] = new OnlineOrder { OrderId = 1, CustomerEmail = \"client@mail.ru\" };\n",
    "        orders[1] = new PhysicalOrder { OrderId = 2, DeliveryAddress = \"ул. Комарова, 1\" };\n",
    "        orders[2] = new SpecializedOrder { OrderId = 3, SpecialConditions = \"Скидка 10%\" };\n",
    "\n",
    "        foreach (var order in orders)\n",
    "        {\n",
    "            Console.WriteLine($\"\\n--- Заказ #{order.OrderId} ---\");\n",
    "            order.AddItem(\"Ноутбук\");\n",
    "            order.AddItem(\"Мышь\");\n",
    "            order.CalculateTotal();\n",
    "            order.RemoveItem(\"Мышь\");\n",
    "        }"
   ]
  }
 ],
 "metadata": {
  "kernelspec": {
   "display_name": ".NET (C#)",
   "language": "C#",
   "name": ".net-csharp"
  },
  "polyglot_notebook": {
   "kernelInfo": {
    "defaultKernelName": "csharp",
    "items": [
     {
      "aliases": [],
      "languageName": "csharp",
      "name": "csharp"
     }
    ]
   }
  }
 },
 "nbformat": 4,
 "nbformat_minor": 2
}
